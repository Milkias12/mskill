{
 "cells": [
  {
   "cell_type": "markdown",
   "metadata": {},
   "source": [
    "<center>\n",
    "    <img src=\"https://cf-courses-data.s3.us.cloud-object-storage.appdomain.cloud/IBMDeveloperSkillsNetwork-DS0105EN-SkillsNetwork/labs/Module2/images/SN_web_lightmode.png\" width=\"300\" alt=\"cognitiveclass.ai logo\">\n",
    "</center>\n"
   ]
  },
  {
   "cell_type": "markdown",
   "metadata": {},
   "source": [
    "#### Add your code below following the instructions given in the course\n"
   ]
  },
  {
   "cell_type": "markdown",
   "metadata": {},
   "source": [
    "# Data Science Tools and Ecosystem"
   ]
  },
  {
   "cell_type": "markdown",
   "metadata": {},
   "source": [
    "### In this notebook, Data Science Tools and Ecosystem are summarized.\n",
    "In this notebook, Data Science Tools and Ecosystem are summarized to provide an overview of the various tools and technologies used in the field of data science."
   ]
  },
  {
   "cell_type": "markdown",
   "metadata": {
    "tags": []
   },
   "source": [
    "## Data Science Tools\n",
    "Some of the popular languages that Data Scientists use are:\n",
    "## 1 Python\n",
    "## 2 R\n",
    "## 3 SQL\n",
    "## 4 Java\n",
    "## 5 Julia\n",
    "## 6 MATLAB\n",
    "## 7 Scala\n",
    "## 8 SAS\n",
    "## 9 Perl\n",
    "## 10C/C++"
   ]
  },
  {
   "cell_type": "markdown",
   "metadata": {},
   "source": [
    "# list data science libraries\n",
    "## Some of the commonly used libraries used by Data Scientists include:\n",
    "### Pandas:\n",
    "A Python library for data manipulation and analysis.\n",
    "### NumPy:\n",
    "A Python library for numerical computing, which includes mathematical functions and tools for working with arrays.\n",
    "### Matplotlib:\n",
    "A Python library for creating visualizations and plots.\n",
    "### Seaborn: \n",
    "A Python library for creating more advanced and aesthetically pleasing visualizations.\n",
    "### Scikit-learn: \n",
    "A Python library for machine learning, which includes various algorithms for classification, regression, and clustering.\n",
    "### TensorFlow: \n",
    "A Python library for deep learning, specifically for building and training neural networks.\n",
    "### Keras: \n",
    "A Python library for building and training neural networks, with a focus on ease of use and modularity.\n",
    "### PyTorch: \n",
    "A Python library for deep learning, which includes tools for building and training neural networks as well as other machine learning algorithms.\n",
    "### NLTK: \n",
    "A Python library for natural language processing, which includes tools for tokenization, stemming, and sentiment analysis.\n",
    "### OpenCV: \n",
    "A Python library for computer vision, which includes tools for image and video processing."
   ]
  },
  {
   "cell_type": "markdown",
   "metadata": {},
   "source": [
    "# arithmetic expressions\n",
    "### Below are a few examples in Python\n",
    "#### here are a few examples of evaluating arithmetic expressions in Python:\n",
    "\n",
    "#### Addition: 2 + 3 would evaluate to 5\n",
    "#### Subtraction: 5 - 2 would evaluate to 3\n",
    "#### Multiplication: 3 * 4 would evaluate to 12\n",
    "#### Division: 10 / 2 would evaluate to 5.0 (Note: In Python 3, dividing two integers will result in a float value)\n",
    "#### Exponentiation: 2 ** 3 would evaluate to 8 (Note: ** represents exponentiation)\n",
    "#### Modulo: 10 % 3 would evaluate to 1 (Note: % returns the remainder of the division operation)"
   ]
  },
  {
   "cell_type": "code",
   "execution_count": 2,
   "metadata": {},
   "outputs": [
    {
     "data": {
      "text/plain": [
       "17"
      ]
     },
     "execution_count": 2,
     "metadata": {},
     "output_type": "execute_result"
    }
   ],
   "source": [
    "(3*4)+5 ## This a simple arithmetic expression to mutiply then add integers"
   ]
  },
  {
   "cell_type": "code",
   "execution_count": 3,
   "metadata": {},
   "outputs": [
    {
     "name": "stdout",
     "output_type": "stream",
     "text": [
      "200 minutes is equal to 3.3333333333333335 hours.\n"
     ]
    }
   ],
   "source": [
    "# Convert 200 minutes to hours\n",
    "minutes = 200\n",
    "hours = minutes / 60\n",
    "print(\"200 minutes is equal to\", hours, \"hours.\")\n"
   ]
  },
  {
   "cell_type": "markdown",
   "metadata": {},
   "source": [
    "# popular languages for Data Science\n",
    "## Objectives\n",
    "#### The objectives for learning about popular languages for Data Science include understanding the strengths and weaknesses of each language, becoming familiar with their syntax and features, and being able to choose the appropriate language for a specific data science task. Additionally, the objectives include gaining an understanding of the ecosystem of each language, including the availability and usage of libraries and frameworks, as well as community support and resources. Finally, the objectives aim to develop proficiency in the practical application of each language for common data science tasks such as data wrangling, visualization, and modelin\n",
    "\n",
    "#### Data Science involves analyzing and interpreting large amounts of data, and there are several programming languages that have become popular among Data Scientists due to their ability to handle data processing and analysis. In this context, it is important to understand the most commonly used languages in Data Science and their respective strengths and weaknesses."
   ]
  },
  {
   "cell_type": "markdown",
   "metadata": {
    "jp-MarkdownHeadingCollapsed": true,
    "tags": []
   },
   "source": [
    "## List of popular languages for Data Science  \n",
    "#### Python\n",
    "#### R\n",
    "    SQL\n",
    "    Java\n",
    "    Scala\n",
    "    MATLAB\n",
    "    Julia\n",
    "    SAS\n",
    "    C++\n",
    "    JavaScript\n",
    "    Ruby\n",
    "    PHP\n",
    "    Go\n",
    "    Kotlin\n",
    "    Swift"
   ]
  }
 ],
 "metadata": {
  "kernelspec": {
   "display_name": "Python",
   "language": "python",
   "name": "conda-env-python-py"
  },
  "language_info": {
   "codemirror_mode": {
    "name": "ipython",
    "version": 3
   },
   "file_extension": ".py",
   "mimetype": "text/x-python",
   "name": "python",
   "nbconvert_exporter": "python",
   "pygments_lexer": "ipython3",
   "version": "3.7.12"
  }
 },
 "nbformat": 4,
 "nbformat_minor": 4
}
